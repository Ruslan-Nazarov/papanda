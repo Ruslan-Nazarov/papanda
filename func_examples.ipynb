{
 "metadata": {
  "language_info": {
   "codemirror_mode": {
    "name": "ipython",
    "version": 3
   },
   "file_extension": ".py",
   "mimetype": "text/x-python",
   "name": "python",
   "nbconvert_exporter": "python",
   "pygments_lexer": "ipython3",
   "version": "3.8.8"
  },
  "orig_nbformat": 4,
  "kernelspec": {
   "name": "python3",
   "display_name": "Python 3.8.8 64-bit ('base': conda)"
  },
  "interpreter": {
   "hash": "950ea495fc06c0764730efbe7eb1d502d626f5a7357792cb84d9112aff45d35d"
  }
 },
 "nbformat": 4,
 "nbformat_minor": 2,
 "cells": [
  {
   "cell_type": "code",
   "execution_count": 1,
   "source": [
    "pip install papanda\r\n"
   ],
   "outputs": [
    {
     "output_type": "stream",
     "name": "stdout",
     "text": [
      "Requirement already satisfied: papanda in c:\\users\\runaz\\anaconda3\\lib\\site-packages (0.0.1a3)\n",
      "Note: you may need to restart the kernel to use updated packages.\n"
     ]
    }
   ],
   "metadata": {}
  },
  {
   "cell_type": "markdown",
   "source": [
    "# Cohran's test"
   ],
   "metadata": {}
  },
  {
   "cell_type": "code",
   "execution_count": 2,
   "source": [
    "from papanda import cochran_test"
   ],
   "outputs": [],
   "metadata": {}
  },
  {
   "cell_type": "code",
   "execution_count": 3,
   "source": [
    "data_for_cochran = [12.134, 2.303, 3.594, 3.319, 3.455]"
   ],
   "outputs": [],
   "metadata": {}
  },
  {
   "cell_type": "code",
   "execution_count": 4,
   "source": [
    "cochran_test.cochran(data_for_cochran, 8, 0.05)"
   ],
   "outputs": [
    {
     "output_type": "stream",
     "name": "stdout",
     "text": [
      "Critical_value:0.4564\n",
      "\n",
      "Cochran's criterion: 0.48917556944164486\n",
      "\n",
      "Outliers:12.134\n"
     ]
    }
   ],
   "metadata": {}
  },
  {
   "cell_type": "markdown",
   "source": [
    "# GESD"
   ],
   "metadata": {}
  },
  {
   "cell_type": "code",
   "execution_count": 1,
   "source": [
    "from papanda import gesd"
   ],
   "outputs": [],
   "metadata": {}
  },
  {
   "cell_type": "code",
   "execution_count": 2,
   "source": [
    "data_for_gesd = [-2.21, -1.84, -0.95, -0.91, -0.36, -0.19, -0.11, \r\n",
    "-0.10, 0.18, 0.30, 0.43, 0.51, 0.64, 0.67, 0.93, 1.22, 1.35, 1.73, 5.80, 12.6]"
   ],
   "outputs": [],
   "metadata": {}
  },
  {
   "cell_type": "code",
   "execution_count": 4,
   "source": [
    "gesd.GESD(data_for_gesd, 0.05, 3)"
   ],
   "outputs": [
    {
     "output_type": "stream",
     "name": "stdout",
     "text": [
      "   number_of_outliers  r-stat  l-critical index_of_outliers\n",
      "0                   0  3.6559    2.750178              12.6\n",
      "1                   1  3.2634    2.724130               5.8\n",
      "2                   2  2.1761    2.696156       Not outlier\n"
     ]
    }
   ],
   "metadata": {}
  },
  {
   "cell_type": "markdown",
   "source": [
    "# Greenwood's test"
   ],
   "metadata": {}
  },
  {
   "cell_type": "code",
   "execution_count": 5,
   "source": [
    "from papanda import greenwood_criterion"
   ],
   "outputs": [],
   "metadata": {}
  },
  {
   "cell_type": "code",
   "execution_count": 6,
   "source": [
    "data_for_greenwod = [10.10, 10.27, 10.85, 11.38, 12.85, 13.13, 14.07, \r\n",
    "14.26, 14.51, 14.55, 15.73, 17.43, 17.72, 18.49, 20.75, 21.37, 22.50, \r\n",
    "24.22, 25.61, 33.84, 43.0, 84.94]"
   ],
   "outputs": [],
   "metadata": {}
  },
  {
   "cell_type": "code",
   "execution_count": 7,
   "source": [
    "greenwood_criterion.greenwood(data_for_greenwod, alpha=0.025)"
   ],
   "outputs": [
    {
     "output_type": "stream",
     "name": "stdout",
     "text": [
      "Greenwood's criterion:0.13486004943388885\n",
      "\n",
      "Critical value maximum: 0.1338\n",
      "\n",
      "Critical value minimum: 0.0673\n",
      "\n",
      "Result: Outliers among maximum values\n"
     ]
    }
   ],
   "metadata": {}
  },
  {
   "cell_type": "markdown",
   "source": [
    "# Modified boxplot"
   ],
   "metadata": {}
  },
  {
   "cell_type": "code",
   "execution_count": 9,
   "source": [
    "from papanda import modified_boxplot"
   ],
   "outputs": [],
   "metadata": {}
  },
  {
   "cell_type": "code",
   "execution_count": 8,
   "source": [
    "data_for_boxplot = [-2.21, -1.84, -0.95, -0.91, -0.36, -0.19, -0.11, -0.10, \r\n",
    "0.18, 0.30, 0.43, 0.51, 0.64, 0.67, 0.93, 1.22, 1.35, 1.73, 5.80, 12.6, 37]"
   ],
   "outputs": [],
   "metadata": {}
  },
  {
   "cell_type": "code",
   "execution_count": 10,
   "source": [
    "modified_boxplot.boxplot(data_for_boxplot, alpha=0.05)"
   ],
   "outputs": [
    {
     "output_type": "execute_result",
     "data": {
      "text/plain": [
       "array([ 5.8, 12.6, 37. ])"
      ]
     },
     "metadata": {},
     "execution_count": 10
    }
   ],
   "metadata": {}
  },
  {
   "cell_type": "markdown",
   "source": [
    "# Trimmed mean"
   ],
   "metadata": {}
  },
  {
   "cell_type": "code",
   "execution_count": 11,
   "source": [
    "from papanda import trimmed_mean"
   ],
   "outputs": [],
   "metadata": {}
  },
  {
   "cell_type": "code",
   "execution_count": 12,
   "source": [
    "data_for_trim = [-2.21, -1.84, -0.95, -0.91, -0.36, -0.19, -0.11, -0.10, \r\n",
    "0.18, 0.30, 0.43, 0.51, 0.64, 0.67, 0.93, 1.22, 1.35, 1.73, 5.80, 12.6, 37]"
   ],
   "outputs": [],
   "metadata": {}
  },
  {
   "cell_type": "code",
   "execution_count": 13,
   "source": [
    "trimmed_mean.trim_mean(data_for_trim)"
   ],
   "outputs": [
    {
     "output_type": "stream",
     "name": "stdout",
     "text": [
      "   per_outliers  trim_mean\n",
      "0          0.05   1.130265\n",
      "1          0.10   0.634226\n",
      "2          0.15   0.419524\n",
      "3          0.18   0.420417\n",
      "4          0.20   0.418413\n",
      "\n",
      "Mean for whole data: 2.6995238095238094\n",
      "\n",
      "Median for whole data: 0.43\n"
     ]
    }
   ],
   "metadata": {}
  },
  {
   "cell_type": "code",
   "execution_count": null,
   "source": [],
   "outputs": [],
   "metadata": {}
  }
 ]
}